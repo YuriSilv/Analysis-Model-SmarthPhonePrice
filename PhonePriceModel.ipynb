{
 "cells": [
  {
   "cell_type": "markdown",
   "id": "d846e3e4-1c89-4ddb-8a75-6a8f4041c22c",
   "metadata": {
    "tags": []
   },
   "source": [
    "### Download database do Kaggle"
   ]
  },
  {
   "cell_type": "raw",
   "id": "00a02d15-79d7-4200-a8fd-9fbf140a0ccc",
   "metadata": {},
   "source": [
    "import kaggle\n",
    "\n",
    "kaggle.api.dataset_download_files('juanmerinobermejo/smartphones-price-dataset', unzip=True)"
   ]
  },
  {
   "cell_type": "markdown",
   "id": "f479184c-e1a6-4f35-b544-95594562007d",
   "metadata": {},
   "source": [
    "### Carregando Base"
   ]
  },
  {
   "cell_type": "code",
   "execution_count": 1,
   "id": "0692dbdb-d754-4982-a351-acd0c24b08fc",
   "metadata": {
    "tags": []
   },
   "outputs": [],
   "source": [
    "import pandas as pd\n",
    "import numpy as np\n",
    "import matplotlib.pyplot as plt"
   ]
  },
  {
   "cell_type": "code",
   "execution_count": 2,
   "id": "5689cdfe-bc04-4ae1-990f-1e757136dc3c",
   "metadata": {
    "tags": []
   },
   "outputs": [
    {
     "data": {
      "text/html": [
       "<div>\n",
       "<style scoped>\n",
       "    .dataframe tbody tr th:only-of-type {\n",
       "        vertical-align: middle;\n",
       "    }\n",
       "\n",
       "    .dataframe tbody tr th {\n",
       "        vertical-align: top;\n",
       "    }\n",
       "\n",
       "    .dataframe thead th {\n",
       "        text-align: right;\n",
       "    }\n",
       "</style>\n",
       "<table border=\"1\" class=\"dataframe\">\n",
       "  <thead>\n",
       "    <tr style=\"text-align: right;\">\n",
       "      <th></th>\n",
       "      <th>Smartphone</th>\n",
       "      <th>Brand</th>\n",
       "      <th>Model</th>\n",
       "      <th>RAM</th>\n",
       "      <th>Storage</th>\n",
       "      <th>Color</th>\n",
       "      <th>Free</th>\n",
       "      <th>Final Price</th>\n",
       "    </tr>\n",
       "  </thead>\n",
       "  <tbody>\n",
       "    <tr>\n",
       "      <th>0</th>\n",
       "      <td>Realme C55 8/256GB Sunshower Libre</td>\n",
       "      <td>Realme</td>\n",
       "      <td>C55</td>\n",
       "      <td>8.0</td>\n",
       "      <td>256.0</td>\n",
       "      <td>Yellow</td>\n",
       "      <td>Yes</td>\n",
       "      <td>231.60</td>\n",
       "    </tr>\n",
       "    <tr>\n",
       "      <th>1</th>\n",
       "      <td>Samsung Galaxy M23 5G 4/128GB Azul Libre</td>\n",
       "      <td>Samsung</td>\n",
       "      <td>Galaxy M23</td>\n",
       "      <td>4.0</td>\n",
       "      <td>128.0</td>\n",
       "      <td>Blue</td>\n",
       "      <td>Yes</td>\n",
       "      <td>279.00</td>\n",
       "    </tr>\n",
       "    <tr>\n",
       "      <th>2</th>\n",
       "      <td>Motorola Moto G13 4/128GB Azul Lavanda Libre</td>\n",
       "      <td>Motorola</td>\n",
       "      <td>Moto G13</td>\n",
       "      <td>4.0</td>\n",
       "      <td>128.0</td>\n",
       "      <td>Blue</td>\n",
       "      <td>Yes</td>\n",
       "      <td>179.01</td>\n",
       "    </tr>\n",
       "    <tr>\n",
       "      <th>3</th>\n",
       "      <td>Xiaomi Redmi Note 11S 6/128GB Gris Libre</td>\n",
       "      <td>Xiaomi</td>\n",
       "      <td>Redmi Note 11S</td>\n",
       "      <td>6.0</td>\n",
       "      <td>128.0</td>\n",
       "      <td>Gray</td>\n",
       "      <td>Yes</td>\n",
       "      <td>279.99</td>\n",
       "    </tr>\n",
       "    <tr>\n",
       "      <th>4</th>\n",
       "      <td>Nothing Phone (2) 12/512GB Blanco Libre</td>\n",
       "      <td>Nothing</td>\n",
       "      <td>Phone (2)</td>\n",
       "      <td>12.0</td>\n",
       "      <td>512.0</td>\n",
       "      <td>White</td>\n",
       "      <td>Yes</td>\n",
       "      <td>799.00</td>\n",
       "    </tr>\n",
       "  </tbody>\n",
       "</table>\n",
       "</div>"
      ],
      "text/plain": [
       "                                     Smartphone     Brand           Model  \\\n",
       "0            Realme C55 8/256GB Sunshower Libre    Realme             C55   \n",
       "1      Samsung Galaxy M23 5G 4/128GB Azul Libre   Samsung      Galaxy M23   \n",
       "2  Motorola Moto G13 4/128GB Azul Lavanda Libre  Motorola        Moto G13   \n",
       "3      Xiaomi Redmi Note 11S 6/128GB Gris Libre    Xiaomi  Redmi Note 11S   \n",
       "4       Nothing Phone (2) 12/512GB Blanco Libre   Nothing       Phone (2)   \n",
       "\n",
       "    RAM  Storage   Color Free  Final Price  \n",
       "0   8.0    256.0  Yellow  Yes       231.60  \n",
       "1   4.0    128.0    Blue  Yes       279.00  \n",
       "2   4.0    128.0    Blue  Yes       179.01  \n",
       "3   6.0    128.0    Gray  Yes       279.99  \n",
       "4  12.0    512.0   White  Yes       799.00  "
      ]
     },
     "execution_count": 2,
     "metadata": {},
     "output_type": "execute_result"
    }
   ],
   "source": [
    "df = pd.read_csv('smartphones.csv')\n",
    "df.head()"
   ]
  },
  {
   "cell_type": "markdown",
   "id": "2c79a13e-e3e6-44b0-ae51-86b52a214f2e",
   "metadata": {},
   "source": [
    "### Sanity Check"
   ]
  },
  {
   "cell_type": "code",
   "execution_count": 3,
   "id": "0a1191fe-3ad9-409c-b79c-ce82e10d1c3c",
   "metadata": {
    "tags": []
   },
   "outputs": [
    {
     "name": "stdout",
     "output_type": "stream",
     "text": [
      "<class 'pandas.core.frame.DataFrame'>\n",
      "RangeIndex: 1816 entries, 0 to 1815\n",
      "Data columns (total 8 columns):\n",
      " #   Column       Non-Null Count  Dtype  \n",
      "---  ------       --------------  -----  \n",
      " 0   Smartphone   1816 non-null   object \n",
      " 1   Brand        1816 non-null   object \n",
      " 2   Model        1816 non-null   object \n",
      " 3   RAM          1333 non-null   float64\n",
      " 4   Storage      1791 non-null   float64\n",
      " 5   Color        1816 non-null   object \n",
      " 6   Free         1816 non-null   object \n",
      " 7   Final Price  1816 non-null   float64\n",
      "dtypes: float64(3), object(5)\n",
      "memory usage: 113.6+ KB\n"
     ]
    }
   ],
   "source": [
    "df.info()"
   ]
  },
  {
   "cell_type": "code",
   "execution_count": 4,
   "id": "a05f7dd1-01c3-485c-92b8-7b5f36d70fa2",
   "metadata": {
    "tags": []
   },
   "outputs": [
    {
     "data": {
      "text/plain": [
       "Smartphone      0.000000\n",
       "Brand           0.000000\n",
       "Model           0.000000\n",
       "RAM            26.596916\n",
       "Storage         1.376652\n",
       "Color           0.000000\n",
       "Free            0.000000\n",
       "Final Price     0.000000\n",
       "dtype: float64"
      ]
     },
     "execution_count": 4,
     "metadata": {},
     "output_type": "execute_result"
    }
   ],
   "source": [
    "df.isna().sum() * 100 / len(df)"
   ]
  },
  {
   "cell_type": "markdown",
   "id": "7aaf85ca-386d-414b-bf1d-08e5540a8320",
   "metadata": {
    "tags": []
   },
   "source": [
    "<p>Base contém nulos, temos 3 opções: </p>\n",
    "<li>Excluir linhas com nulos</li>\n",
    "<li>Excluir colunas com nulos</li>\n",
    "<li>Substituir por alguma medida (média, moda, mediana, etc) </li>\n",
    "<br>\n",
    "<p>Seguiremos pelo terceiro modo. Para decidir a melhor medida, teremos que analisar um pouco mais dos dados</p>"
   ]
  },
  {
   "cell_type": "code",
   "execution_count": 5,
   "id": "e3443701-c4cd-46ef-94da-45ba30455601",
   "metadata": {
    "tags": []
   },
   "outputs": [
    {
     "data": {
      "image/png": "[encoded data removed]",
      "text/plain": [
       "<Figure size 640x480 with 4 Axes>"
      ]
     },
     "metadata": {},
     "output_type": "display_data"
    }
   ],
   "source": [
    "df.hist(grid=False); #observando a distribuição para ver tendência das medidas"
   ]
  },
  {
   "cell_type": "code",
   "execution_count": 6,
   "id": "c7721262-5816-460a-97d5-5053a38aed2e",
   "metadata": {
    "tags": []
   },
   "outputs": [
    {
     "data": {
      "image/png": "[encoded data removed]",
      "text/plain": [
       "<Figure size 640x480 with 1 Axes>"
      ]
     },
     "metadata": {},
     "output_type": "display_data"
    }
   ],
   "source": [
    "df.plot(kind='box');"
   ]
  },
  {
   "cell_type": "markdown",
   "id": "5dd3469f-c878-45a8-8dd4-1e453b4bc0e3",
   "metadata": {},
   "source": [
    "<li> A RAM não tem outliers e parece ter dois picos de ocorrências mais frequente. Como não existe RAM com valor quebrado (float), talvez seja valido substituir pela moda </li>\n",
    "\n",
    "<li> A Storage contém um outlier e parece ser assimétrica a direita. Uma substituição pela mediana pode ser útil </li>"
   ]
  },
  {
   "cell_type": "code",
   "execution_count": 7,
   "id": "21a5e615-1bec-4c9e-9598-047405eaf05d",
   "metadata": {
    "tags": []
   },
   "outputs": [],
   "source": [
    "ram_moda = df['RAM'].mode()\n",
    "storage_median = df['Storage'].median()"
   ]
  },
  {
   "cell_type": "code",
   "execution_count": 8,
   "id": "d5ebfd44-72ab-42f3-9cd0-2b3bc82c4599",
   "metadata": {
    "tags": []
   },
   "outputs": [],
   "source": [
    "df_cleaned = df.copy() #criando cópia para ser meu novo df, representando o df limpo"
   ]
  },
  {
   "cell_type": "code",
   "execution_count": 9,
   "id": "6e2ea302-4b21-482d-bf08-498087376ef8",
   "metadata": {
    "tags": []
   },
   "outputs": [
    {
     "name": "stdout",
     "output_type": "stream",
     "text": [
      "RAM: [8.]\n",
      "Storage: [128.]\n"
     ]
    }
   ],
   "source": [
    "from sklearn.impute import SimpleImputer\n",
    "\n",
    "imp_meadian = SimpleImputer(strategy='median')\n",
    "imp_mode = SimpleImputer(strategy='most_frequent')\n",
    "\n",
    "imp_meadian.fit(df_cleaned[['Storage']])\n",
    "imp_mode.fit(df_cleaned[['RAM']])\n",
    "\n",
    "print(f'RAM: {imp_mode.statistics_}\\nStorage: {imp_meadian.statistics_}')"
   ]
  },
  {
   "cell_type": "code",
   "execution_count": 10,
   "id": "8caa3745-0b1c-4f8f-bcc5-3df97a289177",
   "metadata": {
    "tags": []
   },
   "outputs": [],
   "source": [
    "df_cleaned['RAM'].fillna(ram_moda[0], inplace=True)\n",
    "df_cleaned['Storage'].fillna(storage_median, inplace=True)"
   ]
  },
  {
   "cell_type": "code",
   "execution_count": 11,
   "id": "2aaa3cdc-7c53-4925-9cc3-f77d59758051",
   "metadata": {
    "tags": []
   },
   "outputs": [
    {
     "data": {
      "text/plain": [
       "Smartphone     0\n",
       "Brand          0\n",
       "Model          0\n",
       "RAM            0\n",
       "Storage        0\n",
       "Color          0\n",
       "Free           0\n",
       "Final Price    0\n",
       "dtype: int64"
      ]
     },
     "execution_count": 11,
     "metadata": {},
     "output_type": "execute_result"
    }
   ],
   "source": [
    "df_cleaned.isna().sum()"
   ]
  },
  {
   "cell_type": "markdown",
   "id": "ada2ab03-a25f-4e35-933d-1f19af6f513d",
   "metadata": {},
   "source": [
    "### Análise Exploratória"
   ]
  },
  {
   "cell_type": "code",
   "execution_count": 12,
   "id": "0242ac26-3209-4c54-9497-443df68c93a4",
   "metadata": {
    "tags": []
   },
   "outputs": [
    {
     "data": {
      "image/png": "[encoded data removed]",
      "text/plain": [
       "<Figure size 640x480 with 1 Axes>"
      ]
     },
     "metadata": {},
     "output_type": "display_data"
    }
   ],
   "source": [
    "mean_brand = df_cleaned.groupby('Brand')['Final Price'].mean().sort_values()\n",
    "\n",
    "plt.xticks(rotation=90)\n",
    "plt.title('Marcas mais caras')\n",
    "plt.bar(mean_brand.index, mean_brand);"
   ]
  },
  {
   "cell_type": "code",
   "execution_count": 13,
   "id": "a5dc43c1-ef0f-4930-b9f6-dce470f8c241",
   "metadata": {
    "tags": []
   },
   "outputs": [
    {
     "data": {
      "image/png": "[encoded data removed]",
      "text/plain": [
       "<Figure size 640x480 with 1 Axes>"
      ]
     },
     "metadata": {},
     "output_type": "display_data"
    }
   ],
   "source": [
    "mean_color = df_cleaned.groupby('Color')['Final Price'].mean().sort_values()\n",
    "\n",
    "plt.xticks(rotation=45)\n",
    "plt.title('Cores mais caras')\n",
    "plt.bar(mean_color.index, mean_color);"
   ]
  },
  {
   "cell_type": "markdown",
   "id": "70c9f941-2179-41d1-8b2a-9c00a8d64b60",
   "metadata": {},
   "source": [
    "<p> Existem cores com mais de o dobro de valor do que outras. Isso pode indicar que elas podem influenciar no preço ou pode ser que marcas mais caras usem as cores mais caras </p>"
   ]
  },
  {
   "cell_type": "code",
   "execution_count": 14,
   "id": "88e05a5e-6411-480a-9049-9ae378d6470c",
   "metadata": {
    "tags": []
   },
   "outputs": [],
   "source": [
    "total_por_brand = df_cleaned.groupby('Brand')['Color'].count()\n",
    "contagem_cores = df_cleaned.groupby('Brand')['Color'].value_counts().reset_index(name='contagem')\n",
    "\n",
    "contagem_cores = pd.merge(contagem_cores, total_por_brand, on='Brand', suffixes=('_Color', '_total'))\n",
    "contagem_cores['porcentagem'] = contagem_cores['contagem'] / contagem_cores['Color_total'] * 100\n",
    "contagem_cores = contagem_cores[['Brand', 'Color_Color', 'porcentagem']]"
   ]
  },
  {
   "cell_type": "code",
   "execution_count": 15,
   "id": "fd7dacfd-43a0-446b-a408-1a6ac0e1758c",
   "metadata": {
    "tags": []
   },
   "outputs": [
    {
     "data": {
      "text/html": [
       "<div>\n",
       "<style scoped>\n",
       "    .dataframe tbody tr th:only-of-type {\n",
       "        vertical-align: middle;\n",
       "    }\n",
       "\n",
       "    .dataframe tbody tr th {\n",
       "        vertical-align: top;\n",
       "    }\n",
       "\n",
       "    .dataframe thead th {\n",
       "        text-align: right;\n",
       "    }\n",
       "</style>\n",
       "<table border=\"1\" class=\"dataframe\">\n",
       "  <thead>\n",
       "    <tr style=\"text-align: right;\">\n",
       "      <th></th>\n",
       "      <th>Brand</th>\n",
       "      <th>Color_Color</th>\n",
       "      <th>porcentagem</th>\n",
       "    </tr>\n",
       "  </thead>\n",
       "  <tbody>\n",
       "    <tr>\n",
       "      <th>0</th>\n",
       "      <td>Alcatel</td>\n",
       "      <td>Black</td>\n",
       "      <td>42.857143</td>\n",
       "    </tr>\n",
       "    <tr>\n",
       "      <th>4</th>\n",
       "      <td>Apple</td>\n",
       "      <td>Black</td>\n",
       "      <td>17.123288</td>\n",
       "    </tr>\n",
       "    <tr>\n",
       "      <th>15</th>\n",
       "      <td>Asus</td>\n",
       "      <td>Black</td>\n",
       "      <td>100.000000</td>\n",
       "    </tr>\n",
       "    <tr>\n",
       "      <th>16</th>\n",
       "      <td>BQ</td>\n",
       "      <td>Black</td>\n",
       "      <td>100.000000</td>\n",
       "    </tr>\n",
       "    <tr>\n",
       "      <th>17</th>\n",
       "      <td>Blackview</td>\n",
       "      <td>Black</td>\n",
       "      <td>51.851852</td>\n",
       "    </tr>\n",
       "    <tr>\n",
       "      <th>23</th>\n",
       "      <td>CAT</td>\n",
       "      <td>Black</td>\n",
       "      <td>100.000000</td>\n",
       "    </tr>\n",
       "    <tr>\n",
       "      <th>24</th>\n",
       "      <td>Crosscall</td>\n",
       "      <td>Black</td>\n",
       "      <td>85.714286</td>\n",
       "    </tr>\n",
       "    <tr>\n",
       "      <th>26</th>\n",
       "      <td>Cubot</td>\n",
       "      <td>Black</td>\n",
       "      <td>52.941176</td>\n",
       "    </tr>\n",
       "    <tr>\n",
       "      <th>33</th>\n",
       "      <td>Doro</td>\n",
       "      <td>Pink</td>\n",
       "      <td>33.333333</td>\n",
       "    </tr>\n",
       "    <tr>\n",
       "      <th>36</th>\n",
       "      <td>Fairphone</td>\n",
       "      <td>Black</td>\n",
       "      <td>100.000000</td>\n",
       "    </tr>\n",
       "    <tr>\n",
       "      <th>37</th>\n",
       "      <td>Funker</td>\n",
       "      <td>Blue</td>\n",
       "      <td>100.000000</td>\n",
       "    </tr>\n",
       "    <tr>\n",
       "      <th>38</th>\n",
       "      <td>Gigaset</td>\n",
       "      <td>Black</td>\n",
       "      <td>100.000000</td>\n",
       "    </tr>\n",
       "    <tr>\n",
       "      <th>39</th>\n",
       "      <td>Google</td>\n",
       "      <td>Black</td>\n",
       "      <td>66.666667</td>\n",
       "    </tr>\n",
       "    <tr>\n",
       "      <th>42</th>\n",
       "      <td>Hammer</td>\n",
       "      <td>Orange</td>\n",
       "      <td>42.857143</td>\n",
       "    </tr>\n",
       "    <tr>\n",
       "      <th>46</th>\n",
       "      <td>Honor</td>\n",
       "      <td>Black</td>\n",
       "      <td>51.851852</td>\n",
       "    </tr>\n",
       "    <tr>\n",
       "      <th>51</th>\n",
       "      <td>Huawei</td>\n",
       "      <td>Black</td>\n",
       "      <td>45.614035</td>\n",
       "    </tr>\n",
       "    <tr>\n",
       "      <th>61</th>\n",
       "      <td>LG</td>\n",
       "      <td>Blue</td>\n",
       "      <td>100.000000</td>\n",
       "    </tr>\n",
       "    <tr>\n",
       "      <th>62</th>\n",
       "      <td>Lenovo</td>\n",
       "      <td>Black</td>\n",
       "      <td>100.000000</td>\n",
       "    </tr>\n",
       "    <tr>\n",
       "      <th>63</th>\n",
       "      <td>Maxcom</td>\n",
       "      <td>Black</td>\n",
       "      <td>100.000000</td>\n",
       "    </tr>\n",
       "    <tr>\n",
       "      <th>64</th>\n",
       "      <td>Microsoft</td>\n",
       "      <td>White</td>\n",
       "      <td>100.000000</td>\n",
       "    </tr>\n",
       "    <tr>\n",
       "      <th>65</th>\n",
       "      <td>Motorola</td>\n",
       "      <td>Gray</td>\n",
       "      <td>33.333333</td>\n",
       "    </tr>\n",
       "    <tr>\n",
       "      <th>74</th>\n",
       "      <td>Nokia</td>\n",
       "      <td>Black</td>\n",
       "      <td>38.461538</td>\n",
       "    </tr>\n",
       "    <tr>\n",
       "      <th>78</th>\n",
       "      <td>Nothing</td>\n",
       "      <td>White</td>\n",
       "      <td>44.444444</td>\n",
       "    </tr>\n",
       "    <tr>\n",
       "      <th>81</th>\n",
       "      <td>OPPO</td>\n",
       "      <td>Black</td>\n",
       "      <td>50.000000</td>\n",
       "    </tr>\n",
       "    <tr>\n",
       "      <th>91</th>\n",
       "      <td>OnePlus</td>\n",
       "      <td>Blue</td>\n",
       "      <td>40.909091</td>\n",
       "    </tr>\n",
       "    <tr>\n",
       "      <th>95</th>\n",
       "      <td>POCO</td>\n",
       "      <td>Black</td>\n",
       "      <td>40.298507</td>\n",
       "    </tr>\n",
       "    <tr>\n",
       "      <th>101</th>\n",
       "      <td>Qubo</td>\n",
       "      <td>Blue</td>\n",
       "      <td>100.000000</td>\n",
       "    </tr>\n",
       "    <tr>\n",
       "      <th>102</th>\n",
       "      <td>Realme</td>\n",
       "      <td>Black</td>\n",
       "      <td>33.333333</td>\n",
       "    </tr>\n",
       "    <tr>\n",
       "      <th>112</th>\n",
       "      <td>SPC</td>\n",
       "      <td>Black</td>\n",
       "      <td>45.454545</td>\n",
       "    </tr>\n",
       "    <tr>\n",
       "      <th>117</th>\n",
       "      <td>Samsung</td>\n",
       "      <td>Black</td>\n",
       "      <td>30.786026</td>\n",
       "    </tr>\n",
       "    <tr>\n",
       "      <th>131</th>\n",
       "      <td>Sony</td>\n",
       "      <td>Green</td>\n",
       "      <td>50.000000</td>\n",
       "    </tr>\n",
       "    <tr>\n",
       "      <th>133</th>\n",
       "      <td>Swissvoice</td>\n",
       "      <td>Black</td>\n",
       "      <td>100.000000</td>\n",
       "    </tr>\n",
       "    <tr>\n",
       "      <th>134</th>\n",
       "      <td>TCL</td>\n",
       "      <td>Blue</td>\n",
       "      <td>36.111111</td>\n",
       "    </tr>\n",
       "    <tr>\n",
       "      <th>138</th>\n",
       "      <td>Ulefone</td>\n",
       "      <td>Black</td>\n",
       "      <td>56.666667</td>\n",
       "    </tr>\n",
       "    <tr>\n",
       "      <th>143</th>\n",
       "      <td>Vivo</td>\n",
       "      <td>Blue</td>\n",
       "      <td>40.740741</td>\n",
       "    </tr>\n",
       "    <tr>\n",
       "      <th>149</th>\n",
       "      <td>Xiaomi</td>\n",
       "      <td>Blue</td>\n",
       "      <td>28.490028</td>\n",
       "    </tr>\n",
       "    <tr>\n",
       "      <th>162</th>\n",
       "      <td>ZTE</td>\n",
       "      <td>Gray</td>\n",
       "      <td>47.058824</td>\n",
       "    </tr>\n",
       "  </tbody>\n",
       "</table>\n",
       "</div>"
      ],
      "text/plain": [
       "          Brand Color_Color  porcentagem\n",
       "0       Alcatel       Black    42.857143\n",
       "4         Apple       Black    17.123288\n",
       "15         Asus       Black   100.000000\n",
       "16           BQ       Black   100.000000\n",
       "17    Blackview       Black    51.851852\n",
       "23          CAT       Black   100.000000\n",
       "24    Crosscall       Black    85.714286\n",
       "26        Cubot       Black    52.941176\n",
       "33         Doro        Pink    33.333333\n",
       "36    Fairphone       Black   100.000000\n",
       "37       Funker        Blue   100.000000\n",
       "38      Gigaset       Black   100.000000\n",
       "39       Google       Black    66.666667\n",
       "42       Hammer      Orange    42.857143\n",
       "46        Honor       Black    51.851852\n",
       "51       Huawei       Black    45.614035\n",
       "61           LG        Blue   100.000000\n",
       "62       Lenovo       Black   100.000000\n",
       "63       Maxcom       Black   100.000000\n",
       "64    Microsoft       White   100.000000\n",
       "65     Motorola        Gray    33.333333\n",
       "74        Nokia       Black    38.461538\n",
       "78      Nothing       White    44.444444\n",
       "81         OPPO       Black    50.000000\n",
       "91      OnePlus        Blue    40.909091\n",
       "95         POCO       Black    40.298507\n",
       "101        Qubo        Blue   100.000000\n",
       "102      Realme       Black    33.333333\n",
       "112         SPC       Black    45.454545\n",
       "117     Samsung       Black    30.786026\n",
       "131        Sony       Green    50.000000\n",
       "133  Swissvoice       Black   100.000000\n",
       "134         TCL        Blue    36.111111\n",
       "138     Ulefone       Black    56.666667\n",
       "143        Vivo        Blue    40.740741\n",
       "149      Xiaomi        Blue    28.490028\n",
       "162         ZTE        Gray    47.058824"
      ]
     },
     "execution_count": 15,
     "metadata": {},
     "output_type": "execute_result"
    }
   ],
   "source": [
    "contagem_cores.groupby('Brand').head(1) #cores mais comuns nas marcas"
   ]
  },
  {
   "cell_type": "code",
   "execution_count": 16,
   "id": "d8c7af2e-8b78-4ee0-a890-3c2a5a9cbe7f",
   "metadata": {
    "tags": []
   },
   "outputs": [
    {
     "data": {
      "text/html": [
       "<div>\n",
       "<style scoped>\n",
       "    .dataframe tbody tr th:only-of-type {\n",
       "        vertical-align: middle;\n",
       "    }\n",
       "\n",
       "    .dataframe tbody tr th {\n",
       "        vertical-align: top;\n",
       "    }\n",
       "\n",
       "    .dataframe thead th {\n",
       "        text-align: right;\n",
       "    }\n",
       "</style>\n",
       "<table border=\"1\" class=\"dataframe\">\n",
       "  <thead>\n",
       "    <tr style=\"text-align: right;\">\n",
       "      <th></th>\n",
       "      <th>Brand</th>\n",
       "      <th>Color_Color</th>\n",
       "      <th>porcentagem</th>\n",
       "    </tr>\n",
       "  </thead>\n",
       "  <tbody>\n",
       "    <tr>\n",
       "      <th>128</th>\n",
       "      <td>Samsung</td>\n",
       "      <td>Bronze</td>\n",
       "      <td>0.436681</td>\n",
       "    </tr>\n",
       "    <tr>\n",
       "      <th>159</th>\n",
       "      <td>Xiaomi</td>\n",
       "      <td>Bronze</td>\n",
       "      <td>0.284900</td>\n",
       "    </tr>\n",
       "  </tbody>\n",
       "</table>\n",
       "</div>"
      ],
      "text/plain": [
       "       Brand Color_Color  porcentagem\n",
       "128  Samsung      Bronze     0.436681\n",
       "159   Xiaomi      Bronze     0.284900"
      ]
     },
     "execution_count": 16,
     "metadata": {},
     "output_type": "execute_result"
    }
   ],
   "source": [
    "contagem_cores[contagem_cores['Color_Color'] == 'Bronze']"
   ]
  },
  {
   "cell_type": "markdown",
   "id": "c7a36b63-d077-4236-b220-3aea1ad775b7",
   "metadata": {},
   "source": [
    "<p> Aparentemente cor, marca e preço não muito relacionados. Ainda sim, pode haver uma tendência que não analisamos. </p>\n",
    "<p> Podemos transformar as cores em números atráves do rgb, que podem indicar alguma tendência </p>"
   ]
  },
  {
   "cell_type": "code",
   "execution_count": 17,
   "id": "98b32c20-2000-426e-b7c5-7df0b1f72eb4",
   "metadata": {
    "tags": []
   },
   "outputs": [
    {
     "data": {
      "text/html": [
       "<div>\n",
       "<style scoped>\n",
       "    .dataframe tbody tr th:only-of-type {\n",
       "        vertical-align: middle;\n",
       "    }\n",
       "\n",
       "    .dataframe tbody tr th {\n",
       "        vertical-align: top;\n",
       "    }\n",
       "\n",
       "    .dataframe thead th {\n",
       "        text-align: right;\n",
       "    }\n",
       "</style>\n",
       "<table border=\"1\" class=\"dataframe\">\n",
       "  <thead>\n",
       "    <tr style=\"text-align: right;\">\n",
       "      <th></th>\n",
       "      <th>Smartphone</th>\n",
       "      <th>Brand</th>\n",
       "      <th>Model</th>\n",
       "      <th>RAM</th>\n",
       "      <th>Storage</th>\n",
       "      <th>Color</th>\n",
       "      <th>Free</th>\n",
       "      <th>Final Price</th>\n",
       "      <th>r</th>\n",
       "      <th>g</th>\n",
       "      <th>b</th>\n",
       "    </tr>\n",
       "  </thead>\n",
       "  <tbody>\n",
       "    <tr>\n",
       "      <th>0</th>\n",
       "      <td>Realme C55 8/256GB Sunshower Libre</td>\n",
       "      <td>Realme</td>\n",
       "      <td>C55</td>\n",
       "      <td>8.0</td>\n",
       "      <td>256.0</td>\n",
       "      <td>Yellow</td>\n",
       "      <td>Yes</td>\n",
       "      <td>231.60</td>\n",
       "      <td>255</td>\n",
       "      <td>255</td>\n",
       "      <td>0</td>\n",
       "    </tr>\n",
       "    <tr>\n",
       "      <th>1</th>\n",
       "      <td>Samsung Galaxy M23 5G 4/128GB Azul Libre</td>\n",
       "      <td>Samsung</td>\n",
       "      <td>Galaxy M23</td>\n",
       "      <td>4.0</td>\n",
       "      <td>128.0</td>\n",
       "      <td>Blue</td>\n",
       "      <td>Yes</td>\n",
       "      <td>279.00</td>\n",
       "      <td>0</td>\n",
       "      <td>0</td>\n",
       "      <td>255</td>\n",
       "    </tr>\n",
       "    <tr>\n",
       "      <th>2</th>\n",
       "      <td>Motorola Moto G13 4/128GB Azul Lavanda Libre</td>\n",
       "      <td>Motorola</td>\n",
       "      <td>Moto G13</td>\n",
       "      <td>4.0</td>\n",
       "      <td>128.0</td>\n",
       "      <td>Blue</td>\n",
       "      <td>Yes</td>\n",
       "      <td>179.01</td>\n",
       "      <td>0</td>\n",
       "      <td>0</td>\n",
       "      <td>255</td>\n",
       "    </tr>\n",
       "    <tr>\n",
       "      <th>3</th>\n",
       "      <td>Xiaomi Redmi Note 11S 6/128GB Gris Libre</td>\n",
       "      <td>Xiaomi</td>\n",
       "      <td>Redmi Note 11S</td>\n",
       "      <td>6.0</td>\n",
       "      <td>128.0</td>\n",
       "      <td>Gray</td>\n",
       "      <td>Yes</td>\n",
       "      <td>279.99</td>\n",
       "      <td>128</td>\n",
       "      <td>128</td>\n",
       "      <td>128</td>\n",
       "    </tr>\n",
       "    <tr>\n",
       "      <th>4</th>\n",
       "      <td>Nothing Phone (2) 12/512GB Blanco Libre</td>\n",
       "      <td>Nothing</td>\n",
       "      <td>Phone (2)</td>\n",
       "      <td>12.0</td>\n",
       "      <td>512.0</td>\n",
       "      <td>White</td>\n",
       "      <td>Yes</td>\n",
       "      <td>799.00</td>\n",
       "      <td>255</td>\n",
       "      <td>255</td>\n",
       "      <td>255</td>\n",
       "    </tr>\n",
       "  </tbody>\n",
       "</table>\n",
       "</div>"
      ],
      "text/plain": [
       "                                     Smartphone     Brand           Model  \\\n",
       "0            Realme C55 8/256GB Sunshower Libre    Realme             C55   \n",
       "1      Samsung Galaxy M23 5G 4/128GB Azul Libre   Samsung      Galaxy M23   \n",
       "2  Motorola Moto G13 4/128GB Azul Lavanda Libre  Motorola        Moto G13   \n",
       "3      Xiaomi Redmi Note 11S 6/128GB Gris Libre    Xiaomi  Redmi Note 11S   \n",
       "4       Nothing Phone (2) 12/512GB Blanco Libre   Nothing       Phone (2)   \n",
       "\n",
       "    RAM  Storage   Color Free  Final Price    r    g    b  \n",
       "0   8.0    256.0  Yellow  Yes       231.60  255  255    0  \n",
       "1   4.0    128.0    Blue  Yes       279.00    0    0  255  \n",
       "2   4.0    128.0    Blue  Yes       179.01    0    0  255  \n",
       "3   6.0    128.0    Gray  Yes       279.99  128  128  128  \n",
       "4  12.0    512.0   White  Yes       799.00  255  255  255  "
      ]
     },
     "execution_count": 17,
     "metadata": {},
     "output_type": "execute_result"
    }
   ],
   "source": [
    "cores_rgb = {\n",
    "    'Orange': (255, 165, 0),\n",
    "    'Rainbow': (255, 0, 255),\n",
    "    'Brown': (165, 42, 42),\n",
    "    'Gray': (128, 128, 128),\n",
    "    'Blue': (0, 0, 255),\n",
    "    'Crystal': (0, 255, 255),\n",
    "    'Black': (0, 0, 0),\n",
    "    'Green': (0, 128, 0),\n",
    "    'Silver': (192, 192, 192),\n",
    "    'Yellow': (255, 255, 0),\n",
    "    'White': (255, 255, 255),\n",
    "    'Turquoise': (64, 224, 208),\n",
    "    'Red': (255, 0, 0),\n",
    "    'Pink': (255, 192, 203),\n",
    "    'Gold': (255, 215, 0),\n",
    "    'Purple': (128, 0, 128),\n",
    "    'Bronze': (205, 127, 50)\n",
    "}\n",
    "\n",
    "def create_rgb(cor, pallet, rgb_index_num):\n",
    "    return pallet[cor][rgb_index_num]\n",
    "\n",
    "df_cleaned['r'] = df_cleaned.apply(lambda row: create_rgb(row['Color'], cores_rgb, 0), axis=1)\n",
    "df_cleaned['g'] = df_cleaned.apply(lambda row: create_rgb(row['Color'], cores_rgb, 1), axis=1)\n",
    "df_cleaned['b'] = df_cleaned.apply(lambda row: create_rgb(row['Color'], cores_rgb, 2), axis=1)\n",
    "df_cleaned.head()"
   ]
  },
  {
   "cell_type": "code",
   "execution_count": 18,
   "id": "0161d168-4fbb-4f8c-82e4-653a748a76a0",
   "metadata": {
    "tags": []
   },
   "outputs": [
    {
     "name": "stderr",
     "output_type": "stream",
     "text": [
      "C:\\Users\\yurid\\anaconda3\\Lib\\site-packages\\seaborn\\axisgrid.py:118: UserWarning: The figure layout has changed to tight\n",
      "  self._figure.tight_layout(*args, **kwargs)\n"
     ]
    },
    {
     "data": {
      "image/png": "[encoded data removed]",
      "text/plain": [
       "<Figure size 750x750 with 12 Axes>"
      ]
     },
     "metadata": {},
     "output_type": "display_data"
    }
   ],
   "source": [
    "import seaborn as sns\n",
    "\n",
    "sns.pairplot(df_cleaned[['RAM', 'Storage', 'Final Price']], kind=\"scatter\");"
   ]
  },
  {
   "cell_type": "code",
   "execution_count": 19,
   "id": "d91adfc7-4e09-4244-abbf-f3f164fe78a2",
   "metadata": {
    "tags": []
   },
   "outputs": [
    {
     "data": {
      "text/plain": [
       "RAM            0.579126\n",
       "Storage        0.696851\n",
       "Final Price    1.000000\n",
       "r              0.123573\n",
       "g              0.071071\n",
       "b             -0.044529\n",
       "Name: Final Price, dtype: float64"
      ]
     },
     "execution_count": 19,
     "metadata": {},
     "output_type": "execute_result"
    }
   ],
   "source": [
    "m_corr = df_cleaned[['RAM', 'Storage', 'Final Price', 'r', 'g', 'b']].corr()\n",
    "m_corr['Final Price']"
   ]
  },
  {
   "cell_type": "code",
   "execution_count": 20,
   "id": "b7bb76a3-d831-4fd1-aaf2-2d656933d8e3",
   "metadata": {
    "tags": []
   },
   "outputs": [
    {
     "data": {
      "text/plain": [
       "<Axes: >"
      ]
     },
     "execution_count": 20,
     "metadata": {},
     "output_type": "execute_result"
    },
    {
     "data": {
      "image/png": "[encoded data removed]",
      "text/plain": [
       "<Figure size 640x480 with 2 Axes>"
      ]
     },
     "metadata": {},
     "output_type": "display_data"
    }
   ],
   "source": [
    "sns.heatmap(m_corr, annot=True)"
   ]
  },
  {
   "cell_type": "markdown",
   "id": "69269417-eb0a-4063-838d-0c118f1297cd",
   "metadata": {},
   "source": [
    "<p> Preço tem boa correlação com RAM e Storage. Já o RGB parece não influenciar - talvez seja mais valido transformar o atributo de cor em binário com o OneHotEnconder </p>"
   ]
  },
  {
   "cell_type": "code",
   "execution_count": 21,
   "id": "b74c08e6-e484-4699-b739-bcf4d89c20f7",
   "metadata": {
    "tags": []
   },
   "outputs": [
    {
     "data": {
      "text/plain": [
       "array(['Yes', 'No'], dtype=object)"
      ]
     },
     "execution_count": 21,
     "metadata": {},
     "output_type": "execute_result"
    }
   ],
   "source": [
    "df_cleaned['Free'].unique()"
   ]
  },
  {
   "cell_type": "code",
   "execution_count": 22,
   "id": "9f804995-4a91-4dc6-b637-88e3ec020b82",
   "metadata": {
    "tags": []
   },
   "outputs": [],
   "source": [
    "from sklearn.preprocessing import OrdinalEncoder\n",
    "\n",
    "encoder_o = OrdinalEncoder()\n",
    "\n",
    "df_cleaned['Free_encoded'] = encoder_o.fit_transform(df_cleaned[['Free']])"
   ]
  },
  {
   "cell_type": "code",
   "execution_count": 23,
   "id": "c2fa342c-6d93-4235-b1c7-e2d63ea2109f",
   "metadata": {
    "tags": []
   },
   "outputs": [],
   "source": [
    "from sklearn.preprocessing import OneHotEncoder\n",
    "\n",
    "encoder_h = OneHotEncoder()\n",
    "\n",
    "cat_encoded = encoder_h.fit_transform(df_cleaned[['Color', 'Brand']])"
   ]
  },
  {
   "cell_type": "code",
   "execution_count": 24,
   "id": "c1e77222-7a5c-4ba5-a270-f6906b604702",
   "metadata": {
    "tags": []
   },
   "outputs": [
    {
     "data": {
      "text/html": [
       "<div>\n",
       "<style scoped>\n",
       "    .dataframe tbody tr th:only-of-type {\n",
       "        vertical-align: middle;\n",
       "    }\n",
       "\n",
       "    .dataframe tbody tr th {\n",
       "        vertical-align: top;\n",
       "    }\n",
       "\n",
       "    .dataframe thead th {\n",
       "        text-align: right;\n",
       "    }\n",
       "</style>\n",
       "<table border=\"1\" class=\"dataframe\">\n",
       "  <thead>\n",
       "    <tr style=\"text-align: right;\">\n",
       "      <th></th>\n",
       "      <th>Smartphone</th>\n",
       "      <th>Brand</th>\n",
       "      <th>Model</th>\n",
       "      <th>RAM</th>\n",
       "      <th>Storage</th>\n",
       "      <th>Color</th>\n",
       "      <th>Free</th>\n",
       "      <th>Final Price</th>\n",
       "      <th>r</th>\n",
       "      <th>g</th>\n",
       "      <th>b</th>\n",
       "      <th>Free_encoded</th>\n",
       "    </tr>\n",
       "  </thead>\n",
       "  <tbody>\n",
       "    <tr>\n",
       "      <th>0</th>\n",
       "      <td>Realme C55 8/256GB Sunshower Libre</td>\n",
       "      <td>Realme</td>\n",
       "      <td>C55</td>\n",
       "      <td>8.0</td>\n",
       "      <td>256.0</td>\n",
       "      <td>Yellow</td>\n",
       "      <td>Yes</td>\n",
       "      <td>231.60</td>\n",
       "      <td>255</td>\n",
       "      <td>255</td>\n",
       "      <td>0</td>\n",
       "      <td>1.0</td>\n",
       "    </tr>\n",
       "    <tr>\n",
       "      <th>1</th>\n",
       "      <td>Samsung Galaxy M23 5G 4/128GB Azul Libre</td>\n",
       "      <td>Samsung</td>\n",
       "      <td>Galaxy M23</td>\n",
       "      <td>4.0</td>\n",
       "      <td>128.0</td>\n",
       "      <td>Blue</td>\n",
       "      <td>Yes</td>\n",
       "      <td>279.00</td>\n",
       "      <td>0</td>\n",
       "      <td>0</td>\n",
       "      <td>255</td>\n",
       "      <td>1.0</td>\n",
       "    </tr>\n",
       "    <tr>\n",
       "      <th>2</th>\n",
       "      <td>Motorola Moto G13 4/128GB Azul Lavanda Libre</td>\n",
       "      <td>Motorola</td>\n",
       "      <td>Moto G13</td>\n",
       "      <td>4.0</td>\n",
       "      <td>128.0</td>\n",
       "      <td>Blue</td>\n",
       "      <td>Yes</td>\n",
       "      <td>179.01</td>\n",
       "      <td>0</td>\n",
       "      <td>0</td>\n",
       "      <td>255</td>\n",
       "      <td>1.0</td>\n",
       "    </tr>\n",
       "    <tr>\n",
       "      <th>3</th>\n",
       "      <td>Xiaomi Redmi Note 11S 6/128GB Gris Libre</td>\n",
       "      <td>Xiaomi</td>\n",
       "      <td>Redmi Note 11S</td>\n",
       "      <td>6.0</td>\n",
       "      <td>128.0</td>\n",
       "      <td>Gray</td>\n",
       "      <td>Yes</td>\n",
       "      <td>279.99</td>\n",
       "      <td>128</td>\n",
       "      <td>128</td>\n",
       "      <td>128</td>\n",
       "      <td>1.0</td>\n",
       "    </tr>\n",
       "    <tr>\n",
       "      <th>4</th>\n",
       "      <td>Nothing Phone (2) 12/512GB Blanco Libre</td>\n",
       "      <td>Nothing</td>\n",
       "      <td>Phone (2)</td>\n",
       "      <td>12.0</td>\n",
       "      <td>512.0</td>\n",
       "      <td>White</td>\n",
       "      <td>Yes</td>\n",
       "      <td>799.00</td>\n",
       "      <td>255</td>\n",
       "      <td>255</td>\n",
       "      <td>255</td>\n",
       "      <td>1.0</td>\n",
       "    </tr>\n",
       "    <tr>\n",
       "      <th>...</th>\n",
       "      <td>...</td>\n",
       "      <td>...</td>\n",
       "      <td>...</td>\n",
       "      <td>...</td>\n",
       "      <td>...</td>\n",
       "      <td>...</td>\n",
       "      <td>...</td>\n",
       "      <td>...</td>\n",
       "      <td>...</td>\n",
       "      <td>...</td>\n",
       "      <td>...</td>\n",
       "      <td>...</td>\n",
       "    </tr>\n",
       "    <tr>\n",
       "      <th>1811</th>\n",
       "      <td>Xiaomi Redmi Note 8 4/64GB Azul Libre</td>\n",
       "      <td>Xiaomi</td>\n",
       "      <td>Redmi Note 8</td>\n",
       "      <td>4.0</td>\n",
       "      <td>64.0</td>\n",
       "      <td>Blue</td>\n",
       "      <td>Yes</td>\n",
       "      <td>249.01</td>\n",
       "      <td>0</td>\n",
       "      <td>0</td>\n",
       "      <td>255</td>\n",
       "      <td>1.0</td>\n",
       "    </tr>\n",
       "    <tr>\n",
       "      <th>1812</th>\n",
       "      <td>Xiaomi Redmi Note 8T 4/128GB Azul Estelar Libre</td>\n",
       "      <td>Xiaomi</td>\n",
       "      <td>Redmi Note 8T</td>\n",
       "      <td>4.0</td>\n",
       "      <td>128.0</td>\n",
       "      <td>Blue</td>\n",
       "      <td>Yes</td>\n",
       "      <td>200.00</td>\n",
       "      <td>0</td>\n",
       "      <td>0</td>\n",
       "      <td>255</td>\n",
       "      <td>1.0</td>\n",
       "    </tr>\n",
       "    <tr>\n",
       "      <th>1813</th>\n",
       "      <td>Xiaomi Redmi Note 9 4/128GB Blanco Libre</td>\n",
       "      <td>Xiaomi</td>\n",
       "      <td>Redmi Note 9</td>\n",
       "      <td>4.0</td>\n",
       "      <td>128.0</td>\n",
       "      <td>White</td>\n",
       "      <td>Yes</td>\n",
       "      <td>269.00</td>\n",
       "      <td>255</td>\n",
       "      <td>255</td>\n",
       "      <td>255</td>\n",
       "      <td>1.0</td>\n",
       "    </tr>\n",
       "    <tr>\n",
       "      <th>1814</th>\n",
       "      <td>Xiaomi Redmi Note 9S 4/64GB Dual SIM Gris Libre</td>\n",
       "      <td>Xiaomi</td>\n",
       "      <td>Note 9S</td>\n",
       "      <td>4.0</td>\n",
       "      <td>64.0</td>\n",
       "      <td>Gray</td>\n",
       "      <td>Yes</td>\n",
       "      <td>211.00</td>\n",
       "      <td>128</td>\n",
       "      <td>128</td>\n",
       "      <td>128</td>\n",
       "      <td>1.0</td>\n",
       "    </tr>\n",
       "    <tr>\n",
       "      <th>1815</th>\n",
       "      <td>Xiaomi Redmi Note 9S 6/128GB Dual SIM Gris Libre</td>\n",
       "      <td>Xiaomi</td>\n",
       "      <td>Note 9S</td>\n",
       "      <td>6.0</td>\n",
       "      <td>128.0</td>\n",
       "      <td>Gray</td>\n",
       "      <td>Yes</td>\n",
       "      <td>289.00</td>\n",
       "      <td>128</td>\n",
       "      <td>128</td>\n",
       "      <td>128</td>\n",
       "      <td>1.0</td>\n",
       "    </tr>\n",
       "  </tbody>\n",
       "</table>\n",
       "<p>1816 rows × 12 columns</p>\n",
       "</div>"
      ],
      "text/plain": [
       "                                            Smartphone     Brand  \\\n",
       "0                   Realme C55 8/256GB Sunshower Libre    Realme   \n",
       "1             Samsung Galaxy M23 5G 4/128GB Azul Libre   Samsung   \n",
       "2         Motorola Moto G13 4/128GB Azul Lavanda Libre  Motorola   \n",
       "3             Xiaomi Redmi Note 11S 6/128GB Gris Libre    Xiaomi   \n",
       "4              Nothing Phone (2) 12/512GB Blanco Libre   Nothing   \n",
       "...                                                ...       ...   \n",
       "1811             Xiaomi Redmi Note 8 4/64GB Azul Libre    Xiaomi   \n",
       "1812   Xiaomi Redmi Note 8T 4/128GB Azul Estelar Libre    Xiaomi   \n",
       "1813          Xiaomi Redmi Note 9 4/128GB Blanco Libre    Xiaomi   \n",
       "1814   Xiaomi Redmi Note 9S 4/64GB Dual SIM Gris Libre    Xiaomi   \n",
       "1815  Xiaomi Redmi Note 9S 6/128GB Dual SIM Gris Libre    Xiaomi   \n",
       "\n",
       "               Model   RAM  Storage   Color Free  Final Price    r    g    b  \\\n",
       "0                C55   8.0    256.0  Yellow  Yes       231.60  255  255    0   \n",
       "1         Galaxy M23   4.0    128.0    Blue  Yes       279.00    0    0  255   \n",
       "2           Moto G13   4.0    128.0    Blue  Yes       179.01    0    0  255   \n",
       "3     Redmi Note 11S   6.0    128.0    Gray  Yes       279.99  128  128  128   \n",
       "4          Phone (2)  12.0    512.0   White  Yes       799.00  255  255  255   \n",
       "...              ...   ...      ...     ...  ...          ...  ...  ...  ...   \n",
       "1811    Redmi Note 8   4.0     64.0    Blue  Yes       249.01    0    0  255   \n",
       "1812   Redmi Note 8T   4.0    128.0    Blue  Yes       200.00    0    0  255   \n",
       "1813    Redmi Note 9   4.0    128.0   White  Yes       269.00  255  255  255   \n",
       "1814         Note 9S   4.0     64.0    Gray  Yes       211.00  128  128  128   \n",
       "1815         Note 9S   6.0    128.0    Gray  Yes       289.00  128  128  128   \n",
       "\n",
       "      Free_encoded  \n",
       "0              1.0  \n",
       "1              1.0  \n",
       "2              1.0  \n",
       "3              1.0  \n",
       "4              1.0  \n",
       "...            ...  \n",
       "1811           1.0  \n",
       "1812           1.0  \n",
       "1813           1.0  \n",
       "1814           1.0  \n",
       "1815           1.0  \n",
       "\n",
       "[1816 rows x 12 columns]"
      ]
     },
     "execution_count": 24,
     "metadata": {},
     "output_type": "execute_result"
    }
   ],
   "source": [
    "df_cleaned"
   ]
  },
  {
   "cell_type": "markdown",
   "id": "13dfccef-ff2f-44b7-b488-9665da667fb3",
   "metadata": {},
   "source": [
    "### Modelagem"
   ]
  },
  {
   "cell_type": "code",
   "execution_count": 25,
   "id": "cfa6c010-1ced-4189-8a1e-5f3f39b20c43",
   "metadata": {
    "tags": []
   },
   "outputs": [],
   "source": [
    "features = ['Free_encoded', 'RAM', 'Storage']\n",
    "target = ['Final Price']"
   ]
  },
  {
   "cell_type": "code",
   "execution_count": 26,
   "id": "168a6061-c4ee-4e71-b51b-d42720e9a180",
   "metadata": {
    "tags": []
   },
   "outputs": [],
   "source": [
    "from sklearn.preprocessing import MinMaxScaler\n",
    "\n",
    "scaler = MinMaxScaler()\n",
    "model_features = scaler.fit_transform(df_cleaned[features])"
   ]
  },
  {
   "cell_type": "code",
   "execution_count": 27,
   "id": "7e689d5f-f5ae-4777-a237-68b60af4c9cc",
   "metadata": {
    "tags": []
   },
   "outputs": [],
   "source": [
    "final_features = np.hstack((cat_encoded.toarray(), model_features))"
   ]
  },
  {
   "cell_type": "code",
   "execution_count": 28,
   "id": "afd3216c-6e49-42d6-a33f-a693f3be990f",
   "metadata": {
    "tags": []
   },
   "outputs": [],
   "source": [
    "from sklearn.model_selection import train_test_split\n",
    "\n",
    "x_train, x_test, y_train, y_test = train_test_split(final_features, df_cleaned[target], test_size=0.2, random_state=42)"
   ]
  },
  {
   "cell_type": "code",
   "execution_count": 34,
   "id": "20f57d24-dcb5-49c8-9a3c-c9a6dec749b8",
   "metadata": {
    "tags": []
   },
   "outputs": [
    {
     "data": {
      "text/html": [
       "<style>#sk-container-id-2 {\n",
       "  /* Definition of color scheme common for light and dark mode */\n",
       "  --sklearn-color-text: black;\n",
       "  --sklearn-color-line: gray;\n",
       "  /* Definition of color scheme for unfitted estimators */\n",
       "  --sklearn-color-unfitted-level-0: #fff5e6;\n",
       "  --sklearn-color-unfitted-level-1: #f6e4d2;\n",
       "  --sklearn-color-unfitted-level-2: #ffe0b3;\n",
       "  --sklearn-color-unfitted-level-3: chocolate;\n",
       "  /* Definition of color scheme for fitted estimators */\n",
       "  --sklearn-color-fitted-level-0: #f0f8ff;\n",
       "  --sklearn-color-fitted-level-1: #d4ebff;\n",
       "  --sklearn-color-fitted-level-2: #b3dbfd;\n",
       "  --sklearn-color-fitted-level-3: cornflowerblue;\n",
       "\n",
       "  /* Specific color for light theme */\n",
       "  --sklearn-color-text-on-default-background: var(--sg-text-color, var(--theme-code-foreground, var(--jp-content-font-color1, black)));\n",
       "  --sklearn-color-background: var(--sg-background-color, var(--theme-background, var(--jp-layout-color0, white)));\n",
       "  --sklearn-color-border-box: var(--sg-text-color, var(--theme-code-foreground, var(--jp-content-font-color1, black)));\n",
       "  --sklearn-color-icon: #696969;\n",
       "\n",
       "  @media (prefers-color-scheme: dark) {\n",
       "    /* Redefinition of color scheme for dark theme */\n",
       "    --sklearn-color-text-on-default-background: var(--sg-text-color, var(--theme-code-foreground, var(--jp-content-font-color1, white)));\n",
       "    --sklearn-color-background: var(--sg-background-color, var(--theme-background, var(--jp-layout-color0, #111)));\n",
       "    --sklearn-color-border-box: var(--sg-text-color, var(--theme-code-foreground, var(--jp-content-font-color1, white)));\n",
       "    --sklearn-color-icon: #878787;\n",
       "  }\n",
       "}\n",
       "\n",
       "#sk-container-id-2 {\n",
       "  color: var(--sklearn-color-text);\n",
       "}\n",
       "\n",
       "#sk-container-id-2 pre {\n",
       "  padding: 0;\n",
       "}\n",
       "\n",
       "#sk-container-id-2 input.sk-hidden--visually {\n",
       "  border: 0;\n",
       "  clip: rect(1px 1px 1px 1px);\n",
       "  clip: rect(1px, 1px, 1px, 1px);\n",
       "  height: 1px;\n",
       "  margin: -1px;\n",
       "  overflow: hidden;\n",
       "  padding: 0;\n",
       "  position: absolute;\n",
       "  width: 1px;\n",
       "}\n",
       "\n",
       "#sk-container-id-2 div.sk-dashed-wrapped {\n",
       "  border: 1px dashed var(--sklearn-color-line);\n",
       "  margin: 0 0.4em 0.5em 0.4em;\n",
       "  box-sizing: border-box;\n",
       "  padding-bottom: 0.4em;\n",
       "  background-color: var(--sklearn-color-background);\n",
       "}\n",
       "\n",
       "#sk-container-id-2 div.sk-container {\n",
       "  /* jupyter's `normalize.less` sets `[hidden] { display: none; }`\n",
       "     but bootstrap.min.css set `[hidden] { display: none !important; }`\n",
       "     so we also need the `!important` here to be able to override the\n",
       "     default hidden behavior on the sphinx rendered scikit-learn.org.\n",
       "     See: https://github.com/scikit-learn/scikit-learn/issues/21755 */\n",
       "  display: inline-block !important;\n",
       "  position: relative;\n",
       "}\n",
       "\n",
       "#sk-container-id-2 div.sk-text-repr-fallback {\n",
       "  display: none;\n",
       "}\n",
       "\n",
       "div.sk-parallel-item,\n",
       "div.sk-serial,\n",
       "div.sk-item {\n",
       "  /* draw centered vertical line to link estimators */\n",
       "  background-image: linear-gradient(var(--sklearn-color-text-on-default-background), var(--sklearn-color-text-on-default-background));\n",
       "  background-size: 2px 100%;\n",
       "  background-repeat: no-repeat;\n",
       "  background-position: center center;\n",
       "}\n",
       "\n",
       "/* Parallel-specific style estimator block */\n",
       "\n",
       "#sk-container-id-2 div.sk-parallel-item::after {\n",
       "  content: \"\";\n",
       "  width: 100%;\n",
       "  border-bottom: 2px solid var(--sklearn-color-text-on-default-background);\n",
       "  flex-grow: 1;\n",
       "}\n",
       "\n",
       "#sk-container-id-2 div.sk-parallel {\n",
       "  display: flex;\n",
       "  align-items: stretch;\n",
       "  justify-content: center;\n",
       "  background-color: var(--sklearn-color-background);\n",
       "  position: relative;\n",
       "}\n",
       "\n",
       "#sk-container-id-2 div.sk-parallel-item {\n",
       "  display: flex;\n",
       "  flex-direction: column;\n",
       "}\n",
       "\n",
       "#sk-container-id-2 div.sk-parallel-item:first-child::after {\n",
       "  align-self: flex-end;\n",
       "  width: 50%;\n",
       "}\n",
       "\n",
       "#sk-container-id-2 div.sk-parallel-item:last-child::after {\n",
       "  align-self: flex-start;\n",
       "  width: 50%;\n",
       "}\n",
       "\n",
       "#sk-container-id-2 div.sk-parallel-item:only-child::after {\n",
       "  width: 0;\n",
       "}\n",
       "\n",
       "/* Serial-specific style estimator block */\n",
       "\n",
       "#sk-container-id-2 div.sk-serial {\n",
       "  display: flex;\n",
       "  flex-direction: column;\n",
       "  align-items: center;\n",
       "  background-color: var(--sklearn-color-background);\n",
       "  padding-right: 1em;\n",
       "  padding-left: 1em;\n",
       "}\n",
       "\n",
       "\n",
       "/* Toggleable style: style used for estimator/Pipeline/ColumnTransformer box that is\n",
       "clickable and can be expanded/collapsed.\n",
       "- Pipeline and ColumnTransformer use this feature and define the default style\n",
       "- Estimators will overwrite some part of the style using the `sk-estimator` class\n",
       "*/\n",
       "\n",
       "/* Pipeline and ColumnTransformer style (default) */\n",
       "\n",
       "#sk-container-id-2 div.sk-toggleable {\n",
       "  /* Default theme specific background. It is overwritten whether we have a\n",
       "  specific estimator or a Pipeline/ColumnTransformer */\n",
       "  background-color: var(--sklearn-color-background);\n",
       "}\n",
       "\n",
       "/* Toggleable label */\n",
       "#sk-container-id-2 label.sk-toggleable__label {\n",
       "  cursor: pointer;\n",
       "  display: block;\n",
       "  width: 100%;\n",
       "  margin-bottom: 0;\n",
       "  padding: 0.5em;\n",
       "  box-sizing: border-box;\n",
       "  text-align: center;\n",
       "}\n",
       "\n",
       "#sk-container-id-2 label.sk-toggleable__label-arrow:before {\n",
       "  /* Arrow on the left of the label */\n",
       "  content: \"▸\";\n",
       "  float: left;\n",
       "  margin-right: 0.25em;\n",
       "  color: var(--sklearn-color-icon);\n",
       "}\n",
       "\n",
       "#sk-container-id-2 label.sk-toggleable__label-arrow:hover:before {\n",
       "  color: var(--sklearn-color-text);\n",
       "}\n",
       "\n",
       "/* Toggleable content - dropdown */\n",
       "\n",
       "#sk-container-id-2 div.sk-toggleable__content {\n",
       "  max-height: 0;\n",
       "  max-width: 0;\n",
       "  overflow: hidden;\n",
       "  text-align: left;\n",
       "  /* unfitted */\n",
       "  background-color: var(--sklearn-color-unfitted-level-0);\n",
       "}\n",
       "\n",
       "#sk-container-id-2 div.sk-toggleable__content.fitted {\n",
       "  /* fitted */\n",
       "  background-color: var(--sklearn-color-fitted-level-0);\n",
       "}\n",
       "\n",
       "#sk-container-id-2 div.sk-toggleable__content pre {\n",
       "  margin: 0.2em;\n",
       "  border-radius: 0.25em;\n",
       "  color: var(--sklearn-color-text);\n",
       "  /* unfitted */\n",
       "  background-color: var(--sklearn-color-unfitted-level-0);\n",
       "}\n",
       "\n",
       "#sk-container-id-2 div.sk-toggleable__content.fitted pre {\n",
       "  /* unfitted */\n",
       "  background-color: var(--sklearn-color-fitted-level-0);\n",
       "}\n",
       "\n",
       "#sk-container-id-2 input.sk-toggleable__control:checked~div.sk-toggleable__content {\n",
       "  /* Expand drop-down */\n",
       "  max-height: 200px;\n",
       "  max-width: 100%;\n",
       "  overflow: auto;\n",
       "}\n",
       "\n",
       "#sk-container-id-2 input.sk-toggleable__control:checked~label.sk-toggleable__label-arrow:before {\n",
       "  content: \"▾\";\n",
       "}\n",
       "\n",
       "/* Pipeline/ColumnTransformer-specific style */\n",
       "\n",
       "#sk-container-id-2 div.sk-label input.sk-toggleable__control:checked~label.sk-toggleable__label {\n",
       "  color: var(--sklearn-color-text);\n",
       "  background-color: var(--sklearn-color-unfitted-level-2);\n",
       "}\n",
       "\n",
       "#sk-container-id-2 div.sk-label.fitted input.sk-toggleable__control:checked~label.sk-toggleable__label {\n",
       "  background-color: var(--sklearn-color-fitted-level-2);\n",
       "}\n",
       "\n",
       "/* Estimator-specific style */\n",
       "\n",
       "/* Colorize estimator box */\n",
       "#sk-container-id-2 div.sk-estimator input.sk-toggleable__control:checked~label.sk-toggleable__label {\n",
       "  /* unfitted */\n",
       "  background-color: var(--sklearn-color-unfitted-level-2);\n",
       "}\n",
       "\n",
       "#sk-container-id-2 div.sk-estimator.fitted input.sk-toggleable__control:checked~label.sk-toggleable__label {\n",
       "  /* fitted */\n",
       "  background-color: var(--sklearn-color-fitted-level-2);\n",
       "}\n",
       "\n",
       "#sk-container-id-2 div.sk-label label.sk-toggleable__label,\n",
       "#sk-container-id-2 div.sk-label label {\n",
       "  /* The background is the default theme color */\n",
       "  color: var(--sklearn-color-text-on-default-background);\n",
       "}\n",
       "\n",
       "/* On hover, darken the color of the background */\n",
       "#sk-container-id-2 div.sk-label:hover label.sk-toggleable__label {\n",
       "  color: var(--sklearn-color-text);\n",
       "  background-color: var(--sklearn-color-unfitted-level-2);\n",
       "}\n",
       "\n",
       "/* Label box, darken color on hover, fitted */\n",
       "#sk-container-id-2 div.sk-label.fitted:hover label.sk-toggleable__label.fitted {\n",
       "  color: var(--sklearn-color-text);\n",
       "  background-color: var(--sklearn-color-fitted-level-2);\n",
       "}\n",
       "\n",
       "/* Estimator label */\n",
       "\n",
       "#sk-container-id-2 div.sk-label label {\n",
       "  font-family: monospace;\n",
       "  font-weight: bold;\n",
       "  display: inline-block;\n",
       "  line-height: 1.2em;\n",
       "}\n",
       "\n",
       "#sk-container-id-2 div.sk-label-container {\n",
       "  text-align: center;\n",
       "}\n",
       "\n",
       "/* Estimator-specific */\n",
       "#sk-container-id-2 div.sk-estimator {\n",
       "  font-family: monospace;\n",
       "  border: 1px dotted var(--sklearn-color-border-box);\n",
       "  border-radius: 0.25em;\n",
       "  box-sizing: border-box;\n",
       "  margin-bottom: 0.5em;\n",
       "  /* unfitted */\n",
       "  background-color: var(--sklearn-color-unfitted-level-0);\n",
       "}\n",
       "\n",
       "#sk-container-id-2 div.sk-estimator.fitted {\n",
       "  /* fitted */\n",
       "  background-color: var(--sklearn-color-fitted-level-0);\n",
       "}\n",
       "\n",
       "/* on hover */\n",
       "#sk-container-id-2 div.sk-estimator:hover {\n",
       "  /* unfitted */\n",
       "  background-color: var(--sklearn-color-unfitted-level-2);\n",
       "}\n",
       "\n",
       "#sk-container-id-2 div.sk-estimator.fitted:hover {\n",
       "  /* fitted */\n",
       "  background-color: var(--sklearn-color-fitted-level-2);\n",
       "}\n",
       "\n",
       "/* Specification for estimator info (e.g. \"i\" and \"?\") */\n",
       "\n",
       "/* Common style for \"i\" and \"?\" */\n",
       "\n",
       ".sk-estimator-doc-link,\n",
       "a:link.sk-estimator-doc-link,\n",
       "a:visited.sk-estimator-doc-link {\n",
       "  float: right;\n",
       "  font-size: smaller;\n",
       "  line-height: 1em;\n",
       "  font-family: monospace;\n",
       "  background-color: var(--sklearn-color-background);\n",
       "  border-radius: 1em;\n",
       "  height: 1em;\n",
       "  width: 1em;\n",
       "  text-decoration: none !important;\n",
       "  margin-left: 1ex;\n",
       "  /* unfitted */\n",
       "  border: var(--sklearn-color-unfitted-level-1) 1pt solid;\n",
       "  color: var(--sklearn-color-unfitted-level-1);\n",
       "}\n",
       "\n",
       ".sk-estimator-doc-link.fitted,\n",
       "a:link.sk-estimator-doc-link.fitted,\n",
       "a:visited.sk-estimator-doc-link.fitted {\n",
       "  /* fitted */\n",
       "  border: var(--sklearn-color-fitted-level-1) 1pt solid;\n",
       "  color: var(--sklearn-color-fitted-level-1);\n",
       "}\n",
       "\n",
       "/* On hover */\n",
       "div.sk-estimator:hover .sk-estimator-doc-link:hover,\n",
       ".sk-estimator-doc-link:hover,\n",
       "div.sk-label-container:hover .sk-estimator-doc-link:hover,\n",
       ".sk-estimator-doc-link:hover {\n",
       "  /* unfitted */\n",
       "  background-color: var(--sklearn-color-unfitted-level-3);\n",
       "  color: var(--sklearn-color-background);\n",
       "  text-decoration: none;\n",
       "}\n",
       "\n",
       "div.sk-estimator.fitted:hover .sk-estimator-doc-link.fitted:hover,\n",
       ".sk-estimator-doc-link.fitted:hover,\n",
       "div.sk-label-container:hover .sk-estimator-doc-link.fitted:hover,\n",
       ".sk-estimator-doc-link.fitted:hover {\n",
       "  /* fitted */\n",
       "  background-color: var(--sklearn-color-fitted-level-3);\n",
       "  color: var(--sklearn-color-background);\n",
       "  text-decoration: none;\n",
       "}\n",
       "\n",
       "/* Span, style for the box shown on hovering the info icon */\n",
       ".sk-estimator-doc-link span {\n",
       "  display: none;\n",
       "  z-index: 9999;\n",
       "  position: relative;\n",
       "  font-weight: normal;\n",
       "  right: .2ex;\n",
       "  padding: .5ex;\n",
       "  margin: .5ex;\n",
       "  width: min-content;\n",
       "  min-width: 20ex;\n",
       "  max-width: 50ex;\n",
       "  color: var(--sklearn-color-text);\n",
       "  box-shadow: 2pt 2pt 4pt #999;\n",
       "  /* unfitted */\n",
       "  background: var(--sklearn-color-unfitted-level-0);\n",
       "  border: .5pt solid var(--sklearn-color-unfitted-level-3);\n",
       "}\n",
       "\n",
       ".sk-estimator-doc-link.fitted span {\n",
       "  /* fitted */\n",
       "  background: var(--sklearn-color-fitted-level-0);\n",
       "  border: var(--sklearn-color-fitted-level-3);\n",
       "}\n",
       "\n",
       ".sk-estimator-doc-link:hover span {\n",
       "  display: block;\n",
       "}\n",
       "\n",
       "/* \"?\"-specific style due to the `<a>` HTML tag */\n",
       "\n",
       "#sk-container-id-2 a.estimator_doc_link {\n",
       "  float: right;\n",
       "  font-size: 1rem;\n",
       "  line-height: 1em;\n",
       "  font-family: monospace;\n",
       "  background-color: var(--sklearn-color-background);\n",
       "  border-radius: 1rem;\n",
       "  height: 1rem;\n",
       "  width: 1rem;\n",
       "  text-decoration: none;\n",
       "  /* unfitted */\n",
       "  color: var(--sklearn-color-unfitted-level-1);\n",
       "  border: var(--sklearn-color-unfitted-level-1) 1pt solid;\n",
       "}\n",
       "\n",
       "#sk-container-id-2 a.estimator_doc_link.fitted {\n",
       "  /* fitted */\n",
       "  border: var(--sklearn-color-fitted-level-1) 1pt solid;\n",
       "  color: var(--sklearn-color-fitted-level-1);\n",
       "}\n",
       "\n",
       "/* On hover */\n",
       "#sk-container-id-2 a.estimator_doc_link:hover {\n",
       "  /* unfitted */\n",
       "  background-color: var(--sklearn-color-unfitted-level-3);\n",
       "  color: var(--sklearn-color-background);\n",
       "  text-decoration: none;\n",
       "}\n",
       "\n",
       "#sk-container-id-2 a.estimator_doc_link.fitted:hover {\n",
       "  /* fitted */\n",
       "  background-color: var(--sklearn-color-fitted-level-3);\n",
       "}\n",
       "</style><div id=\"sk-container-id-2\" class=\"sk-top-container\"><div class=\"sk-text-repr-fallback\"><pre>RandomForestRegressor()</pre><b>In a Jupyter environment, please rerun this cell to show the HTML representation or trust the notebook. <br />On GitHub, the HTML representation is unable to render, please try loading this page with nbviewer.org.</b></div><div class=\"sk-container\" hidden><div class=\"sk-item\"><div class=\"sk-estimator fitted sk-toggleable\"><input class=\"sk-toggleable__control sk-hidden--visually\" id=\"sk-estimator-id-2\" type=\"checkbox\" checked><label for=\"sk-estimator-id-2\" class=\"sk-toggleable__label fitted sk-toggleable__label-arrow fitted\">&nbsp;&nbsp;RandomForestRegressor<a class=\"sk-estimator-doc-link fitted\" rel=\"noreferrer\" target=\"_blank\" href=\"https://scikit-learn.org/1.4/modules/generated/sklearn.ensemble.RandomForestRegressor.html\">?<span>Documentation for RandomForestRegressor</span></a><span class=\"sk-estimator-doc-link fitted\">i<span>Fitted</span></span></label><div class=\"sk-toggleable__content fitted\"><pre>RandomForestRegressor()</pre></div> </div></div></div></div>"
      ],
      "text/plain": [
       "RandomForestRegressor()"
      ]
     },
     "execution_count": 34,
     "metadata": {},
     "output_type": "execute_result"
    }
   ],
   "source": [
    "from sklearn.linear_model import LinearRegression\n",
    "from sklearn.neighbors import KNeighborsRegressor\n",
    "from sklearn.ensemble import RandomForestRegressor\n",
    "\n",
    "y_train = np.ravel(y_train) #1d\n",
    "model = RandomForestRegressor()\n",
    "\n",
    "model.fit(x_train, y_train)"
   ]
  },
  {
   "cell_type": "code",
   "execution_count": 35,
   "id": "3cbfc24f-2c9e-4d76-999d-82c610087fb9",
   "metadata": {
    "tags": []
   },
   "outputs": [
    {
     "name": "stdout",
     "output_type": "stream",
     "text": [
      "0.622502493970184\n"
     ]
    }
   ],
   "source": [
    "from sklearn.metrics import r2_score, mean_squared_error , mean_absolute_error\n",
    "\n",
    "y_pred = model.predict(x_test)\n",
    "r2 = r2_score(y_test, y_pred)\n",
    "print(r2)"
   ]
  },
  {
   "cell_type": "markdown",
   "id": "bfa8f628-b7fa-45a3-b26c-966ae92fb1bc",
   "metadata": {},
   "source": [
    "<p> Caso tivessemos colocal \"Model\" nos atributos a serem analisados, poderiamos obter um r2 de quase 0.8. Mas utilizar o model pode não fazer muito sentido a depender do objetivo do modelo. Nesse caso, queremos tentar prever o preço baseado em quem produz, a cor, ram e memória de disco. Ou seja, características gerias que qualquer celular tem. Adicionar o modelo poderia causar um overfitting a depender do modelo</p>"
   ]
  },
  {
   "cell_type": "code",
   "execution_count": 36,
   "id": "31ca1911-1f60-45d4-b8a4-34babf6a00f1",
   "metadata": {},
   "outputs": [],
   "source": [
    "from sklearn.model_selection import GridSearchCV\n",
    "\n",
    "parameters = {\n",
    "    'n_estimators': [100, 200, 300],\n",
    "    'max_depth': [None, 10, 20],\n",
    "    'min_samples_split': [2, 5, 10],\n",
    "    'min_samples_leaf': [1, 2, 4]\n",
    "}\n",
    "\n",
    "grid_search = GridSearchCV(model, parameters, scoring='neg_mean_squared_error', cv=5)"
   ]
  },
  {
   "cell_type": "code",
   "execution_count": 37,
   "id": "43be79af-c872-4c5a-9e1d-7c0bc67eab39",
   "metadata": {
    "tags": []
   },
   "outputs": [],
   "source": [
    "grid_search.fit(x_train, y_train)\n",
    "\n",
    "best_params = grid_search.best_params_\n",
    "best_model = grid_search.best_estimator_"
   ]
  },
  {
   "cell_type": "code",
   "execution_count": 38,
   "id": "6cabf905-0ef4-4ecb-80a2-4a36ab0badfe",
   "metadata": {
    "tags": []
   },
   "outputs": [
    {
     "data": {
      "text/plain": [
       "{'max_depth': 10,\n",
       " 'min_samples_leaf': 2,\n",
       " 'min_samples_split': 5,\n",
       " 'n_estimators': 200}"
      ]
     },
     "execution_count": 38,
     "metadata": {},
     "output_type": "execute_result"
    }
   ],
   "source": [
    "best_params"
   ]
  },
  {
   "cell_type": "code",
   "execution_count": 40,
   "id": "3cda9042-7dc9-47d9-bcc7-1ca0c27ea4b3",
   "metadata": {
    "tags": []
   },
   "outputs": [
    {
     "name": "stdout",
     "output_type": "stream",
     "text": [
      "Mean accuracy: 0.6228019972253481\n",
      " Std accuracy: 0.18457269034818086\n"
     ]
    }
   ],
   "source": [
    "from sklearn.model_selection import cross_val_score\n",
    "\n",
    "clf = RandomForestRegressor(max_depth=10, min_samples_leaf=2, min_samples_split=5, n_estimators=200)\n",
    "clf.fit(x_train, y_train)\n",
    "\n",
    "y_test = np.ravel(y_test) #1d\n",
    "\n",
    "scores = cross_val_score(clf, x_test, y_test, cv=5)\n",
    "\n",
    "print(f'Mean accuracy: {scores.mean()}\\n Std accuracy: {scores.std()}')"
   ]
  },
  {
   "cell_type": "markdown",
   "id": "af9ce668-6e0d-4a57-8e11-dbbd4d3620fa",
   "metadata": {},
   "source": [
    "O modelo gerado não foi bom. Seria ideal buscar alguma opção, como:\n",
    "<li>Aumentar a base de dados: temos menos de 2000 registros, o que na verdade é muito pouco</li>\n",
    "<li>Testar outros modelos: outros modelos podem vim a ser mais robustos e se adptarem melhor as dados</li>\n",
    "<li>Tratar os dados: criar novas features e/ou utilizar um processo de limpeza diferente e melhor analisado pode ajudar</li>"
   ]
  },
  {
   "cell_type": "code",
   "execution_count": null,
   "id": "76b9773f-daa7-4a91-9ffa-8b229bcf6245",
   "metadata": {},
   "outputs": [],
   "source": []
  }
 ],
 "metadata": {
  "kernelspec": {
   "display_name": "Python 3 (ipykernel)",
   "language": "python",
   "name": "python3"
  },
  "language_info": {
   "codemirror_mode": {
    "name": "ipython",
    "version": 3
   },
   "file_extension": ".py",
   "mimetype": "text/x-python",
   "name": "python",
   "nbconvert_exporter": "python",
   "pygments_lexer": "ipython3",
   "version": "3.11.5"
  }
 },
 "nbformat": 4,
 "nbformat_minor": 5
}
